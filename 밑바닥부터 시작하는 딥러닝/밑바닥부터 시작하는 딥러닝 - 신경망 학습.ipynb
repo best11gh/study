{
 "cells": [
  {
   "cell_type": "markdown",
   "id": "81f3b230",
   "metadata": {},
   "source": [
    "# 신경망 학습"
   ]
  },
  {
   "cell_type": "markdown",
   "id": "02ab05c9",
   "metadata": {},
   "source": [
    "학습 : 훈련 데이터로부터 가중치 매개변수의 최적값을 자동으로 획득하는 것을 말한다.\n",
    "\n",
    "손실 함수 : 신경망이 학습할 수 있도록 해주는 지표, 손실 함수의 결과값을 가장 작게 만드는 가중치 매개변수를 찾는 것이 학습의 목표"
   ]
  },
  {
   "cell_type": "code",
   "execution_count": 1,
   "id": "6e6d629f",
   "metadata": {},
   "outputs": [],
   "source": [
    "# 회색 블록은 사람이 개입하지 않음을 뜻한다.\n",
    "# 신경망의 경우, 입력부터 출력까지 사람의 개입없이, 이미지에 포함된 중요한 특징까지도 기계가 스스로 학습"
   ]
  },
  {
   "cell_type": "markdown",
   "id": "1a791edb",
   "metadata": {},
   "source": [
    "![image](https://user-images.githubusercontent.com/81560908/234729675-1cce42e6-86f9-4f8b-8fcd-f7fe260518a3.png)"
   ]
  },
  {
   "cell_type": "markdown",
   "id": "a063d422",
   "metadata": {},
   "source": [
    "\n"
   ]
  },
  {
   "cell_type": "markdown",
   "id": "116ebf1d",
   "metadata": {},
   "source": [
    "\n"
   ]
  },
  {
   "cell_type": "markdown",
   "id": "d5cd9661",
   "metadata": {},
   "source": [
    "---"
   ]
  },
  {
   "cell_type": "markdown",
   "id": "98c6094c",
   "metadata": {},
   "source": [
    "# 손실 함수(loss function)"
   ]
  },
  {
   "cell_type": "markdown",
   "id": "a7385126",
   "metadata": {},
   "source": [
    "- 모델마다 다르며 임의의 함수를 사용할 수도 있지만, 일반적으로 평균 제곱 오차(MSE)와 교차 엔트로피 오차(CEE)를 사용한다."
   ]
  },
  {
   "cell_type": "markdown",
   "id": "ee39c478",
   "metadata": {},
   "source": [
    "\n"
   ]
  },
  {
   "cell_type": "markdown",
   "id": "63f26d1f",
   "metadata": {},
   "source": [
    "## 평균 제곱 오차(MSE)"
   ]
  },
  {
   "cell_type": "markdown",
   "id": "f2e80ecc",
   "metadata": {},
   "source": [
    "k : 데이터의 차원 수   &nbsp;&nbsp;  y : 신경망의 출력(신경망이 추정한 값) &nbsp;&nbsp;t : 정답 레이블"
   ]
  },
  {
   "cell_type": "markdown",
   "id": "75044310",
   "metadata": {},
   "source": [
    "![image](https://user-images.githubusercontent.com/81560908/234737696-589ead8e-d073-4798-a790-a5d2c21c5522.png)"
   ]
  },
  {
   "cell_type": "code",
   "execution_count": 2,
   "id": "710e948e",
   "metadata": {},
   "outputs": [],
   "source": [
    "# 함수로 구현\n",
    "def mean_squared_error(y, t):\n",
    "    return 0.5 * np.sum((y-t)**2)"
   ]
  },
  {
   "cell_type": "code",
   "execution_count": 3,
   "id": "26d3adde",
   "metadata": {},
   "outputs": [
    {
     "data": {
      "text/plain": [
       "0.09750000000000003"
      ]
     },
     "execution_count": 3,
     "metadata": {},
     "output_type": "execute_result"
    }
   ],
   "source": [
    "import numpy as np\n",
    "\n",
    "# 정답은 '2'\n",
    "t = [0, 0, 1, 0, 0, 0, 0, 0, 0, 0]\n",
    "\n",
    "# y : 소프트맥스 함수의 출력\n",
    "\n",
    "# '2'일 확률이 가장 높다고 추정한 경우 (0.6)\n",
    "y = [0.1, 0.05, 0.6, 0.0, 0.05, 0.1, 0.0, 0.1, 0.0, 0.0]\n",
    "mean_squared_error(np.array(y), np.array(t))"
   ]
  },
  {
   "cell_type": "code",
   "execution_count": 4,
   "id": "15049f90",
   "metadata": {},
   "outputs": [
    {
     "data": {
      "text/plain": [
       "0.5975"
      ]
     },
     "execution_count": 4,
     "metadata": {},
     "output_type": "execute_result"
    }
   ],
   "source": [
    "# '7'일 확률이 가장 높다고 추정한 경우 (0.6)\n",
    "y = [0.1, 0.05, 0.1, 0.0, 0.05, 0.1, 0.0, 0.6, 0.0, 0.0]\n",
    "mean_squared_error(np.array(y), np.array(t))"
   ]
  },
  {
   "cell_type": "markdown",
   "id": "36105f38",
   "metadata": {},
   "source": [
    "손실 함수 쪽 출력이 작으면 정답 레이블과의 오차도 작다.\n",
    "\n",
    "=> 평균 제곱 오차를 기준으로 첫 번째 추정 결과가 정답에 더 가까울 것으로 판단할 수 있다."
   ]
  },
  {
   "cell_type": "markdown",
   "id": "e4618485",
   "metadata": {},
   "source": [
    "\n"
   ]
  },
  {
   "cell_type": "markdown",
   "id": "1bf51f34",
   "metadata": {},
   "source": [
    "## 교차 엔트로피 오차(CEE)"
   ]
  },
  {
   "cell_type": "markdown",
   "id": "1b756ccc",
   "metadata": {},
   "source": [
    "log는 자연로그  &nbsp;&nbsp; y : 신경망의 출력 &nbsp;&nbsp; t : 정답 레이블"
   ]
  },
  {
   "attachments": {
    "image.png": {
     "image/png": "[encoded data removed]"
    }
   },
   "cell_type": "markdown",
   "id": "b7295473",
   "metadata": {},
   "source": [
    "![image.png](attachment:image.png)"
   ]
  },
  {
   "cell_type": "code",
   "execution_count": 5,
   "id": "17c14cac",
   "metadata": {},
   "outputs": [],
   "source": [
    "# 함수로 구현\n",
    "def cross_entropy_error(y, t):\n",
    "    delta = 1e-7\n",
    "    return -np.sum(t*np.log (y+delta))"
   ]
  },
  {
   "cell_type": "markdown",
   "id": "1ce921b2",
   "metadata": {},
   "source": [
    "np.log( )함수에  0을 입력하면 &nbsp; -inf(마이너스 무한대)가 되어서 더 이상 계산을 진행할 수 없어서 아주 작은 값인 delta를 더했다."
   ]
  },
  {
   "cell_type": "code",
   "execution_count": 6,
   "id": "96e394a6",
   "metadata": {},
   "outputs": [
    {
     "data": {
      "text/plain": [
       "0.510825457099338"
      ]
     },
     "execution_count": 6,
     "metadata": {},
     "output_type": "execute_result"
    }
   ],
   "source": [
    "# 정답은 '2'\n",
    "t = [0, 0, 1, 0, 0, 0, 0, 0, 0, 0]\n",
    "\n",
    "# '2'일 확률이 가장 높다고 추정한 경우 (0.6)\n",
    "y = [0.1, 0.05, 0.6, 0.0, 0.05, 0.1, 0.0, 0.1, 0.0, 0.0]\n",
    "cross_entropy_error(np.array(y), np.array(t))"
   ]
  },
  {
   "cell_type": "code",
   "execution_count": 7,
   "id": "bb03f6c5",
   "metadata": {},
   "outputs": [
    {
     "data": {
      "text/plain": [
       "2.302584092994546"
      ]
     },
     "execution_count": 7,
     "metadata": {},
     "output_type": "execute_result"
    }
   ],
   "source": [
    "# '7'일 확률이 가장 높다고 추정한 경우 (0.6)\n",
    "y = [0.1, 0.05, 0.1, 0.0, 0.05, 0.1, 0.0, 0.6, 0.0, 0.0]\n",
    "cross_entropy_error(np.array(y), np.array(t))"
   ]
  },
  {
   "cell_type": "markdown",
   "id": "e35b9b5c",
   "metadata": {},
   "source": [
    "결과(오차 값)가 더 작은 첫 번째 추정이 정답일 가능성이 높다 \n",
    "\n",
    "평균제곱 오차의 판단과 일치하다."
   ]
  },
  {
   "cell_type": "markdown",
   "id": "26a4f754",
   "metadata": {},
   "source": [
    "\n"
   ]
  },
  {
   "cell_type": "markdown",
   "id": "4fd3ba1a",
   "metadata": {},
   "source": [
    "## 미니배치 학습"
   ]
  },
  {
   "cell_type": "markdown",
   "id": "b44ef64b",
   "metadata": {},
   "source": [
    "- 위에는 데이터 하나에 대한 손실 함수\n",
    "\n",
    "- 훈련 데이터 모두에 대한 손실 함수의 합을 구하는 법"
   ]
  },
  {
   "cell_type": "markdown",
   "id": "849ad733",
   "metadata": {},
   "source": [
    "n : 데이터의 개수"
   ]
  },
  {
   "cell_type": "markdown",
   "id": "bf8bdfdd",
   "metadata": {},
   "source": [
    "![image](https://user-images.githubusercontent.com/81560908/234764022-25e9dcd8-9a21-48a3-93c1-faadf4979c88.png)"
   ]
  },
  {
   "cell_type": "markdown",
   "id": "c469ab69",
   "metadata": {},
   "source": [
    "- 데이터가 많은 경우, &nbsp;시간이 많이 걸리기 때문에 데이터 일부를 추려 전체의 근사치로 이용할 수 있다. &nbsp;&nbsp;   =>  &nbsp;&nbsp;미니배치 학습"
   ]
  },
  {
   "cell_type": "markdown",
   "id": "5867754c",
   "metadata": {},
   "source": [
    "\n"
   ]
  },
  {
   "cell_type": "markdown",
   "id": "03209209",
   "metadata": {},
   "source": [
    "## 손실함수 설정하는 이유"
   ]
  },
  {
   "cell_type": "markdown",
   "id": "01baff27",
   "metadata": {},
   "source": [
    "신경망 학습에서 최적의 매개변수(가중치와 편향)을 탐색할 때 손실함수의 값을 가능한 작게 하는 매개변수 값을 찾는다. "
   ]
  },
  {
   "cell_type": "markdown",
   "id": "4e8d20ee",
   "metadata": {},
   "source": [
    "매개변수의 손실함수의 미분 => 가중치 매개변수의 값을 아주 조금 변화시켰을 때, 손실함수가 어떻게 변하는지 확인\n",
    "\n",
    "미분 값 > 0  &nbsp; &nbsp; => &nbsp; 가중치 매개변수를 음의 방향으로 변화시켜서 손실함수의 값 줄임\n",
    "\n",
    "미분 값 < 0 &nbsp; &nbsp;=> &nbsp;가중치 매개변수를 양의 방향으로 변화시켜서 손실힘수의 값 줄임\n",
    "\n",
    "미분 값 =  0  &nbsp; &nbsp;=>&nbsp;  손실 함수의 값은 달라지지 않기 때문에 가중치 매개변수의 갱신을 멈춘다"
   ]
  },
  {
   "cell_type": "markdown",
   "id": "b668cc79",
   "metadata": {},
   "source": [
    "<span style=\"color:red\">0이 되지 않아야 신경망이 올바르게 학습 가능하다.</span>  &nbsp;&nbsp;=>&nbsp;&nbsp; 신경망 학습에서 중요한 성질"
   ]
  },
  {
   "cell_type": "code",
   "execution_count": 8,
   "id": "520b634e",
   "metadata": {},
   "outputs": [],
   "source": [
    "# 활성화 함수"
   ]
  },
  {
   "cell_type": "markdown",
   "id": "48cd1ed2",
   "metadata": {},
   "source": [
    "![image](https://user-images.githubusercontent.com/81560908/234788209-25c6803c-6cfe-4b57-9ec8-b1a1cc2c5578.png)"
   ]
  },
  {
   "cell_type": "markdown",
   "id": "d1f288e5",
   "metadata": {},
   "source": [
    "- 계단 함수의 경우, 한순간만 변화를 일으켜 매개변수의 작은 변화가 주는 파장을 계단 함수가 말살해 손실 함수의 값에는 아무런 변화가 나타나지 않는다. \n",
    "\n",
    "- 시그모이드 함수의 경우, 미분값이 어느 장소라도 0이 되지 않는 덕분에 신경망이 올바르게 학습할 수 있다."
   ]
  },
  {
   "cell_type": "markdown",
   "id": "12bded3d",
   "metadata": {},
   "source": [
    "\n"
   ]
  },
  {
   "cell_type": "markdown",
   "id": "facfa932",
   "metadata": {},
   "source": [
    "\n"
   ]
  },
  {
   "cell_type": "markdown",
   "id": "6a8dc1ae",
   "metadata": {},
   "source": [
    "---"
   ]
  },
  {
   "cell_type": "markdown",
   "id": "0b985c5a",
   "metadata": {},
   "source": [
    "# 수치 미분"
   ]
  },
  {
   "cell_type": "markdown",
   "id": "ff774ae1",
   "metadata": {},
   "source": [
    "- 아주 작은 차분(h)으로 미분하는 것"
   ]
  },
  {
   "cell_type": "code",
   "execution_count": 9,
   "id": "c298984a",
   "metadata": {},
   "outputs": [],
   "source": [
    "# 오차를 줄이기 위해 (x+h)와 (x-h)일 때의 함수 f의 차분을 계산한다.  =>  중심 차분, 중앙 차분\n",
    "def numerical_diff(f, x):\n",
    "    h = 1e-4\n",
    "    return (f(x+h) - f(x-h)) / (2*h)"
   ]
  },
  {
   "cell_type": "markdown",
   "id": "2d6f4d4b",
   "metadata": {},
   "source": [
    "\n"
   ]
  },
  {
   "cell_type": "markdown",
   "id": "6562cf26",
   "metadata": {},
   "source": [
    "### 편미분"
   ]
  },
  {
   "cell_type": "markdown",
   "id": "b7868ae7",
   "metadata": {},
   "source": [
    "- 변수가 여럿인 함수에 대한 미분"
   ]
  },
  {
   "cell_type": "markdown",
   "id": "bf713e3d",
   "metadata": {},
   "source": [
    "![image](https://user-images.githubusercontent.com/81560908/234908748-d6f6fafd-be4a-4eb3-8d1e-a2c7fb05de7b.png)"
   ]
  },
  {
   "cell_type": "markdown",
   "id": "f9008d46",
   "metadata": {},
   "source": [
    "\n"
   ]
  },
  {
   "cell_type": "markdown",
   "id": "f1889de1",
   "metadata": {},
   "source": [
    "\n"
   ]
  },
  {
   "cell_type": "markdown",
   "id": "489a3284",
   "metadata": {},
   "source": [
    "---"
   ]
  },
  {
   "cell_type": "markdown",
   "id": "3b3e20b5",
   "metadata": {},
   "source": [
    "# 기울기"
   ]
  },
  {
   "cell_type": "markdown",
   "id": "e5889772",
   "metadata": {},
   "source": [
    "- 모든 변수의 편미분을 벡터로 정리한 것"
   ]
  },
  {
   "cell_type": "code",
   "execution_count": 10,
   "id": "41459b17",
   "metadata": {},
   "outputs": [],
   "source": [
    "def numerical_gradient(f, x):\n",
    "    h = 1e-4\n",
    "    grad = np.zeros_like(x)\n",
    "    \n",
    "    for idx in range(x.size):\n",
    "        tmp_val = x[idx]\n",
    "        \n",
    "        # f(x+h) 계산\n",
    "        x[idx] = tmp_val + h\n",
    "        fxh1 = f(x)\n",
    "        \n",
    "        # f(x-h) 계산\n",
    "        x[idx] = tmp_val - h\n",
    "        fxh2 = f(x)\n",
    "        \n",
    "        grad[idx] = (fxh1 - fxh2) / (2*h)\n",
    "        x[idx] = tmp_val\n",
    "        \n",
    "    return grad"
   ]
  },
  {
   "cell_type": "markdown",
   "id": "dd7c38a1",
   "metadata": {},
   "source": [
    "![image](https://user-images.githubusercontent.com/81560908/234909332-7b7459f0-90b6-48d0-82f5-452776b5f657.png)"
   ]
  },
  {
   "cell_type": "markdown",
   "id": "5eb1c547",
   "metadata": {},
   "source": [
    "- 기울기가 가리키는 쪽은 각 장소에서 함수의 출력값을 가장 크게 줄이는 방향이다. "
   ]
  },
  {
   "cell_type": "markdown",
   "id": "88088a89",
   "metadata": {},
   "source": [
    "\n"
   ]
  },
  {
   "cell_type": "markdown",
   "id": "f4c7daf1",
   "metadata": {},
   "source": [
    "## 경사법(경사 하강법)"
   ]
  },
  {
   "cell_type": "markdown",
   "id": "ea195ce5",
   "metadata": {},
   "source": [
    "- 현 위치에서 기울어진 방향으로 일정 거리만큼 이동하는 것을 반복하여 함수의 값을 점차 줄이는 방법\n",
    "\n",
    "- 기계학습을 최적화하는 데 흔히 쓰는 방법"
   ]
  },
  {
   "cell_type": "markdown",
   "id": "b97051f7",
   "metadata": {},
   "source": [
    "- 기울기가 가리키는 곳에 정말 함수의 최적값이 있는지 보장할 수 없다. \n",
    "\n",
    "    ex) 극소값, 안장점"
   ]
  },
  {
   "cell_type": "markdown",
   "id": "cd8ba55e",
   "metadata": {},
   "source": [
    "- 복잡하고 찌그러진 모양의 함수라면 평평한 곳으로 파고들면서 고원이라 하는 학습이 진행되지 않는 정체기에 빠질 수 있다."
   ]
  },
  {
   "cell_type": "markdown",
   "id": "36956850",
   "metadata": {},
   "source": [
    "\n"
   ]
  },
  {
   "cell_type": "markdown",
   "id": "1522b518",
   "metadata": {},
   "source": [
    "### 수식"
   ]
  },
  {
   "cell_type": "markdown",
   "id": "5d9428a7",
   "metadata": {},
   "source": [
    "![image](https://user-images.githubusercontent.com/81560908/234913004-ee3e754d-250f-48a6-a677-7b03246282a7.png)"
   ]
  },
  {
   "cell_type": "markdown",
   "id": "de763145",
   "metadata": {},
   "source": [
    "\n"
   ]
  },
  {
   "cell_type": "markdown",
   "id": "e5877117",
   "metadata": {},
   "source": [
    "### 학습률(learning rate) "
   ]
  },
  {
   "cell_type": "markdown",
   "id": "ae66cc67",
   "metadata": {},
   "source": [
    "η 기호(에타) : 학습률(learning rate) \n",
    "\n",
    "=>  한 번의 학습으로 매개변수 값을 얼마나 갱신하느냐를 정하는 것\n",
    "\n",
    "- 너무 크거나 작으면 좋은 장소로 찾아갈 수 없다."
   ]
  },
  {
   "cell_type": "markdown",
   "id": "343b9fe4",
   "metadata": {},
   "source": [
    "![image](https://user-images.githubusercontent.com/81560908/234914055-d487b1e1-e4ab-4014-beb6-4ce7bc7f6b0f.png)"
   ]
  },
  {
   "cell_type": "code",
   "execution_count": 11,
   "id": "5b78cdec",
   "metadata": {},
   "outputs": [],
   "source": [
    "def gradient_descent(f, init_x, lr = 0.01, step_num = 100):\n",
    "    x = init_x\n",
    "    \n",
    "    for i in range(step_num):\n",
    "        grad = numerical_gradient(f, x)\n",
    "        x -= lr*grad\n",
    "            \n",
    "        return x"
   ]
  },
  {
   "cell_type": "markdown",
   "id": "63d1c1dc",
   "metadata": {},
   "source": [
    "![image](https://user-images.githubusercontent.com/81560908/234915526-8975883c-d0b6-4a13-b7a9-38e1f79f19da.png)"
   ]
  },
  {
   "cell_type": "markdown",
   "id": "74696e11",
   "metadata": {},
   "source": [
    "- 거의 (0, 0)에 가까워진다."
   ]
  },
  {
   "cell_type": "markdown",
   "id": "cbd744ff",
   "metadata": {},
   "source": [
    "\n"
   ]
  },
  {
   "cell_type": "markdown",
   "id": "36447ab9",
   "metadata": {},
   "source": [
    "## 신경망에서의 기울기"
   ]
  },
  {
   "cell_type": "markdown",
   "id": "66dbda05",
   "metadata": {},
   "source": [
    "- 가중치 매개변수에 대한 손실 함수의 기울기"
   ]
  },
  {
   "cell_type": "markdown",
   "id": "a2dd1002",
   "metadata": {},
   "source": [
    "W : 가중치  &nbsp;&nbsp; L : 손실 함수"
   ]
  },
  {
   "cell_type": "markdown",
   "id": "39b05a63",
   "metadata": {},
   "source": [
    "![image](https://user-images.githubusercontent.com/81560908/234918701-b9900378-0144-4dea-9e55-a0b76a758d3d.png)"
   ]
  },
  {
   "cell_type": "markdown",
   "id": "ab8afc4b",
   "metadata": {},
   "source": [
    "\n"
   ]
  },
  {
   "cell_type": "markdown",
   "id": "0539245c",
   "metadata": {},
   "source": [
    "\n"
   ]
  },
  {
   "cell_type": "markdown",
   "id": "3c9b13e5",
   "metadata": {},
   "source": [
    "---"
   ]
  },
  {
   "cell_type": "markdown",
   "id": "f4891d5b",
   "metadata": {},
   "source": [
    "# 학습 알고리즘 구현하기"
   ]
  },
  {
   "cell_type": "markdown",
   "id": "ddbcaea3",
   "metadata": {},
   "source": [
    "\n"
   ]
  },
  {
   "cell_type": "markdown",
   "id": "57b08115",
   "metadata": {},
   "source": [
    "## 신경망 학습 절차"
   ]
  },
  {
   "cell_type": "markdown",
   "id": "41213eb8",
   "metadata": {},
   "source": [
    "1단계 - 미니배치\n",
    "\n",
    "- 훈련 데이터 중 일부를 무작위로 가져온다.\n",
    "\n",
    "2단계 - 기울기 산출\n",
    "\n",
    "- 미니매치의 손실 함수 값을 줄이기 위해 각 가중치 매개변수의 기울기를 구한다. 기울기는 손실 함수의 값을 가장 작게 하는 방향을 제시한다.\n",
    "\n",
    "3단계 - 매개변수 갱신\n",
    "\n",
    "- 가중치 매개변수를 기울기 방향으로 아주 조금 갱신한다.\n",
    "\n",
    "4단계 - 반복\n",
    "\n",
    "- 1~3단계를 반복한다."
   ]
  },
  {
   "cell_type": "markdown",
   "id": "93afa600",
   "metadata": {},
   "source": [
    "데이터를 미니배치로 무작위로 선정하기 때문에 **SGD(확률적 경사 하강법)** 이라고 부른다."
   ]
  },
  {
   "cell_type": "markdown",
   "id": "37bad0d4",
   "metadata": {},
   "source": [
    "\n"
   ]
  },
  {
   "cell_type": "markdown",
   "id": "98e2fe41",
   "metadata": {},
   "source": [
    "## 2층 신경망 클래스 구현하기"
   ]
  },
  {
   "cell_type": "code",
   "execution_count": 12,
   "id": "a4cb4094",
   "metadata": {},
   "outputs": [],
   "source": [
    "import sys, os\n",
    "sys.path.append(os.pardir)\n",
    "from common.functions import *\n",
    "from common.gradient import numerical_gradient\n",
    "\n",
    "\n",
    "class TwoLayerNet:\n",
    "\n",
    "    def __init__(self, input_size, hidden_size, output_size, weight_init_std=0.01):\n",
    "        # 가중치 초기화\n",
    "        self.params = {}\n",
    "        self.params['W1'] = weight_init_std * np.random.randn(input_size, hidden_size)\n",
    "        self.params['b1'] = np.zeros(hidden_size)\n",
    "        self.params['W2'] = weight_init_std * np.random.randn(hidden_size, output_size)\n",
    "        self.params['b2'] = np.zeros(output_size)\n",
    "\n",
    "    def predict(self, x):\n",
    "        W1, W2 = self.params['W1'], self.params['W2']\n",
    "        b1, b2 = self.params['b1'], self.params['b2']\n",
    "    \n",
    "        a1 = np.dot(x, W1) + b1\n",
    "        z1 = sigmoid(a1)\n",
    "        a2 = np.dot(z1, W2) + b2\n",
    "        y = softmax(a2)\n",
    "        \n",
    "        return y\n",
    "        \n",
    "    # x : 입력 데이터, t : 정답 레이블\n",
    "    def loss(self, x, t):\n",
    "        y = self.predict(x)\n",
    "        \n",
    "        return cross_entropy_error(y, t)\n",
    "    \n",
    "    def accuracy(self, x, t):\n",
    "        y = self.predict(x)\n",
    "        y = np.argmax(y, axis=1)\n",
    "        t = np.argmax(t, axis=1)\n",
    "        \n",
    "        accuracy = np.sum(y == t) / float(x.shape[0])\n",
    "        return accuracy\n",
    "        \n",
    "    # x : 입력 데이터, t : 정답 레이블\n",
    "    def numerical_gradient(self, x, t):\n",
    "        loss_W = lambda W: self.loss(x, t)\n",
    "        \n",
    "        grads = {}\n",
    "        grads['W1'] = numerical_gradient(loss_W, self.params['W1'])\n",
    "        grads['b1'] = numerical_gradient(loss_W, self.params['b1'])\n",
    "        grads['W2'] = numerical_gradient(loss_W, self.params['W2'])\n",
    "        grads['b2'] = numerical_gradient(loss_W, self.params['b2'])\n",
    "        \n",
    "        return grads"
   ]
  },
  {
   "cell_type": "markdown",
   "id": "17a90f8c",
   "metadata": {},
   "source": [
    "\n"
   ]
  },
  {
   "cell_type": "markdown",
   "id": "4346463c",
   "metadata": {},
   "source": [
    "## 미니배치 학습 구현하기"
   ]
  },
  {
   "cell_type": "code",
   "execution_count": 13,
   "id": "950a265c",
   "metadata": {
    "scrolled": true
   },
   "outputs": [],
   "source": [
    "import sys, os\n",
    "sys.path.append(os.pardir)\n",
    "import matplotlib.pyplot as plt\n",
    "from dataset.mnist import load_mnist\n",
    "from two_layer_net import TwoLayerNet\n",
    "\n",
    "# 데이터 읽기\n",
    "(x_train, t_train), (x_test, t_test) = load_mnist(normalize=True, one_hot_label=True)\n",
    "\n",
    "network = TwoLayerNet(input_size=784, hidden_size=50, output_size=10)\n",
    "\n",
    "# 하이퍼파라미터\n",
    "iters_num = 10000  # 반복 횟수를 적절히 설정한다.\n",
    "train_size = x_train.shape[0]\n",
    "batch_size = 100   # 미니배치 크기\n",
    "learning_rate = 0.1\n",
    "\n",
    "train_loss_list = []\n",
    "train_acc_list = []\n",
    "test_acc_list = []\n",
    "\n",
    "# 1에폭당 반복 수\n",
    "iter_per_epoch = max(train_size / batch_size, 1)\n",
    "\n",
    "for i in range(iters_num):\n",
    "    # 미니배치 획득\n",
    "    batch_mask = np.random.choice(train_size, batch_size)\n",
    "    x_batch = x_train[batch_mask]\n",
    "    t_batch = t_train[batch_mask]\n",
    "    \n",
    "    # 기울기 계산\n",
    "    #grad = network.numerical_gradient(x_batch, t_batch)\n",
    "    grad = network.gradient(x_batch, t_batch)\n",
    "    \n",
    "    # 매개변수 갱신\n",
    "    for key in ('W1', 'b1', 'W2', 'b2'):\n",
    "        network.params[key] -= learning_rate * grad[key]\n",
    "    \n",
    "    # 학습 경과 기록\n",
    "    loss = network.loss(x_batch, t_batch)\n",
    "    train_loss_list.append(loss)\n",
    "    \n",
    "    # 1에폭당 정확도 계산\n",
    "    if i % iter_per_epoch == 0:\n",
    "        train_acc = network.accuracy(x_train, t_train)\n",
    "        test_acc = network.accuracy(x_test, t_test)\n",
    "        train_acc_list.append(train_acc)\n",
    "        test_acc_list.append(test_acc)"
   ]
  },
  {
   "cell_type": "markdown",
   "id": "0454bbb7",
   "metadata": {},
   "source": [
    "![image](https://user-images.githubusercontent.com/81560908/235111114-a2327051-0a6a-4e24-b491-1614772e4887.png)"
   ]
  },
  {
   "cell_type": "markdown",
   "id": "5c8307c9",
   "metadata": {},
   "source": [
    "- 학습 횟수가 늘어가면서 손실 함수의 값이 줄어든다.  &nbsp;  &nbsp;  =>  &nbsp;  &nbsp;  최적 가중치 매개변수로 서서히 다가가고 있다."
   ]
  },
  {
   "cell_type": "markdown",
   "id": "a7e380de",
   "metadata": {},
   "source": [
    "\n"
   ]
  },
  {
   "cell_type": "markdown",
   "id": "ea43efa5",
   "metadata": {},
   "source": [
    "## 시험 데이터로 평가하기"
   ]
  },
  {
   "cell_type": "code",
   "execution_count": 14,
   "id": "8ea230b3",
   "metadata": {},
   "outputs": [
    {
     "data": {
      "image/png": "[encoded data removed]",
      "text/plain": [
       "<Figure size 640x480 with 1 Axes>"
      ]
     },
     "metadata": {},
     "output_type": "display_data"
    }
   ],
   "source": [
    "# 그래프 그리기\n",
    "markers = {'train': 'o', 'test': 's'}\n",
    "x = np.arange(len(train_acc_list))\n",
    "plt.plot(x, train_acc_list, label='train acc')\n",
    "plt.plot(x, test_acc_list, label='test acc', linestyle='--')\n",
    "plt.xlabel(\"epochs\")\n",
    "plt.ylabel(\"accuracy\")\n",
    "plt.ylim(0, 1.0)\n",
    "plt.legend(loc='lower right')\n",
    "plt.show()"
   ]
  },
  {
   "cell_type": "markdown",
   "id": "be9c5df8",
   "metadata": {},
   "source": [
    "- 에폭(학습)이 진행될수록 훈련 데이터와 시험 데이터의 정확도가 좋아지고 있으며 두 정확도에 차이가 없다. 즉 오버피팅이 일어나지 않았다."
   ]
  }
 ],
 "metadata": {
  "kernelspec": {
   "display_name": "Python 3 (ipykernel)",
   "language": "python",
   "name": "python3"
  },
  "language_info": {
   "codemirror_mode": {
    "name": "ipython",
    "version": 3
   },
   "file_extension": ".py",
   "mimetype": "text/x-python",
   "name": "python",
   "nbconvert_exporter": "python",
   "pygments_lexer": "ipython3",
   "version": "3.10.9"
  }
 },
 "nbformat": 4,
 "nbformat_minor": 5
}
