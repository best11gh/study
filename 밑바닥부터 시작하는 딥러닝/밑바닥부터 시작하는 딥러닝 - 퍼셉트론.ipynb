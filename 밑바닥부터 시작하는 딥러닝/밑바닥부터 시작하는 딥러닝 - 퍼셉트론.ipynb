{
 "cells": [
  {
   "cell_type": "markdown",
   "id": "110f5782",
   "metadata": {},
   "source": [
    "# 퍼셉트론"
   ]
  },
  {
   "cell_type": "markdown",
   "id": "9f54a9f1",
   "metadata": {},
   "source": [
    "- 다수의 신호를 입력으로 받아 하나의 신호(0 또는 1)을 출력하는 신경망의 기원이 되는 알고리즘"
   ]
  },
  {
   "cell_type": "markdown",
   "id": "7c6be9f0",
   "metadata": {},
   "source": [
    "## 가중치(w)"
   ]
  },
  {
   "cell_type": "markdown",
   "id": "4a278713",
   "metadata": {},
   "source": [
    "- 값이 클수록 강한 신호를 흘려보낸다. \n",
    "- 입력 신호가 결과에 주는 영향력을 조절한다."
   ]
  },
  {
   "cell_type": "markdown",
   "id": "1e6e2e70",
   "metadata": {},
   "source": [
    "<div style=\"display: flex; justify-content: center; align-items: center;\">\n",
    "  <img src=\"https://user-images.githubusercontent.com/81560908/235340220-c6774efb-d22b-4ce6-a676-66f7ee877f58.png\" alt=\"이미지1\" style=\"margin-right: 20px;\">\n",
    "  <img src=\"https://user-images.githubusercontent.com/81560908/235340306-181461c8-9381-4293-9c24-3d5d5f81b2d1.png\" alt=\"이미지2\" style=\"height: 100px; object-fit: cover;\">\n",
    "</div>"
   ]
  },
  {
   "cell_type": "markdown",
   "id": "a5a05e71",
   "metadata": {},
   "source": [
    "- 신호의 총합이 정해진 한계(𝜃)를 넘으면 1 출력 "
   ]
  },
  {
   "cell_type": "markdown",
   "id": "f0b177ea",
   "metadata": {},
   "source": [
    "## 편향(b)"
   ]
  },
  {
   "cell_type": "markdown",
   "id": "eab9a595",
   "metadata": {},
   "source": [
    "- 𝜃를 -b로 치환"
   ]
  },
  {
   "cell_type": "markdown",
   "id": "d0d49553",
   "metadata": {},
   "source": [
    "<div style=\"display: flex; justify-content: center; align-items: center;\">\n",
    "  <img src=\"https://user-images.githubusercontent.com/81560908/235344553-863f0a43-a5c5-430e-99d7-058105a2291d.png\" alt=\"이미지1\" style=\"margin-right: 20px;\">\n",
    "  <img src=\"https://user-images.githubusercontent.com/81560908/235342410-928652c7-e00e-4c8e-8c56-94e12763235f.png\" alt=\"이미지2\" style=\"height: 100px; object-fit: cover;\">\n",
    "</div>"
   ]
  },
  {
   "cell_type": "markdown",
   "id": "bcf01a28",
   "metadata": {},
   "source": [
    "- 모델이 데이터를 적합하게 학습할 수 있도록 조정되는 값이며, 주어진 입력값이 얼마나 쉽게 활성화할 수 있는지를 조절하는 역할이다.\n",
    "    - 편향이 큰 값 &nbsp;&nbsp; => &nbsp;&nbsp;활성화 함수의 출력값이 크게 나오므로 모델이 입력값을 쉽게 활성화한다.\n",
    "    - 편향이 작은 값 &nbsp; &nbsp;=> &nbsp;&nbsp;활성화 함수의 출력값이 작아지므로 모델이 입력값을 더 어렵게 활성화한다."
   ]
  },
  {
   "cell_type": "markdown",
   "id": "9ace57c2",
   "metadata": {},
   "source": [
    "---"
   ]
  },
  {
   "cell_type": "markdown",
   "id": "fd9e92ef",
   "metadata": {},
   "source": [
    "# 단순한 논리 회로"
   ]
  },
  {
   "cell_type": "markdown",
   "id": "b934d98c",
   "metadata": {},
   "source": [
    "- 진리표 : 입력 신호와 출력 신호의 대응 표"
   ]
  },
  {
   "cell_type": "markdown",
   "id": "98abe72e",
   "metadata": {},
   "source": [
    "- 매개변수(가중치, 임계값) 값을 적절히 조정함으로써, 동일한 구조의 퍼셉트론도 AND, OR, NAND 등과 같은 다양한 논리 게이트로 변형될 수 있다."
   ]
  },
  {
   "cell_type": "markdown",
   "id": "887d14e0",
   "metadata": {},
   "source": [
    "## AND 게이트"
   ]
  },
  {
   "cell_type": "markdown",
   "id": "fc4ecd9a",
   "metadata": {},
   "source": [
    "- 두 입력이 모두 1일 때만 1을 출력하고, 그 외에는 0을 출력한다."
   ]
  },
  {
   "cell_type": "markdown",
   "id": "b630fb39",
   "metadata": {},
   "source": [
    "![image](https://user-images.githubusercontent.com/81560908/235341593-11e156f2-e929-4a4b-ac79-9239c2ba3c79.png)"
   ]
  },
  {
   "cell_type": "code",
   "execution_count": 1,
   "id": "d57a8edf",
   "metadata": {},
   "outputs": [],
   "source": [
    "def AND(x1, x2):\n",
    "    x = np.array([x1, x2])\n",
    "    w = np.array([0.5, 0.5])\n",
    "    b = -0.7\n",
    "    tmp = np.sum(w*x) + b\n",
    "    if tmp <= 0:\n",
    "        return 0\n",
    "    else:\n",
    "        return 1"
   ]
  },
  {
   "cell_type": "code",
   "execution_count": 2,
   "id": "7f923366",
   "metadata": {},
   "outputs": [
    {
     "name": "stdout",
     "output_type": "stream",
     "text": [
      "(0, 0) -> 0\n",
      "(1, 0) -> 0\n",
      "(0, 1) -> 0\n",
      "(1, 1) -> 1\n"
     ]
    }
   ],
   "source": [
    "if __name__ == '__main__':\n",
    "    for xs in [(0, 0), (1, 0), (0, 1), (1, 1)]:\n",
    "        y = AND(xs[0], xs[1])\n",
    "        print(str(xs) + \" -> \" + str(y))"
   ]
  },
  {
   "cell_type": "markdown",
   "id": "675023e6",
   "metadata": {},
   "source": [
    "## OR 게이트"
   ]
  },
  {
   "cell_type": "markdown",
   "id": "00a7f0c9",
   "metadata": {},
   "source": [
    "- 입력 신호 중 하나 이상이 1이면 1을 출력한다."
   ]
  },
  {
   "cell_type": "markdown",
   "id": "85821eac",
   "metadata": {},
   "source": [
    "![image](https://user-images.githubusercontent.com/81560908/235342058-b39abbf3-14f2-4ab7-8898-f5a9d04d9c9b.png)"
   ]
  },
  {
   "cell_type": "code",
   "execution_count": 3,
   "id": "7a5b1527",
   "metadata": {},
   "outputs": [],
   "source": [
    "def OR(x1, x2):\n",
    "    x = np.array([x1, x2])\n",
    "    w = np.array([0.5, 0.5])\n",
    "    b = -0.2\n",
    "    tmp = np.sum(w*x) + b\n",
    "    if tmp <= 0:\n",
    "        return 0\n",
    "    else:\n",
    "        return 1"
   ]
  },
  {
   "cell_type": "code",
   "execution_count": 4,
   "id": "cf0fc768",
   "metadata": {},
   "outputs": [
    {
     "name": "stdout",
     "output_type": "stream",
     "text": [
      "(0, 0) -> 0\n",
      "(1, 0) -> 1\n",
      "(0, 1) -> 1\n",
      "(1, 1) -> 1\n"
     ]
    }
   ],
   "source": [
    "if __name__ == '__main__':\n",
    "    for xs in [(0, 0), (1, 0), (0, 1), (1, 1)]:\n",
    "        y = OR(xs[0], xs[1])\n",
    "        print(str(xs) + \" -> \" + str(y))"
   ]
  },
  {
   "cell_type": "markdown",
   "id": "49d474a1",
   "metadata": {},
   "source": [
    "## NAND 게이트"
   ]
  },
  {
   "cell_type": "markdown",
   "id": "d2ed454a",
   "metadata": {},
   "source": [
    "- 'NAND'는 'Not AND'를 의미하며, AND 게이트의 출력을 뒤집은 것이다."
   ]
  },
  {
   "cell_type": "markdown",
   "id": "dddeda5d",
   "metadata": {},
   "source": [
    "- 두 입력이 모두 1일 때만 0을 출력하고 , 그 외에는 1을 출력한다."
   ]
  },
  {
   "cell_type": "markdown",
   "id": "246d9954",
   "metadata": {},
   "source": [
    "![image](https://user-images.githubusercontent.com/81560908/235342187-34dd98f9-6d76-4734-b644-de756bdc6a03.png)"
   ]
  },
  {
   "cell_type": "code",
   "execution_count": 5,
   "id": "dfdb4084",
   "metadata": {},
   "outputs": [],
   "source": [
    "def NAND(x1, x2):\n",
    "    x = np.array([x1, x2])\n",
    "    w = np.array([-0.5, -0.5])\n",
    "    b = 0.7\n",
    "    tmp = np.sum(w*x) + b\n",
    "    if tmp <= 0:\n",
    "        return 0\n",
    "    else:\n",
    "        return 1"
   ]
  },
  {
   "cell_type": "code",
   "execution_count": 6,
   "id": "6d84ad76",
   "metadata": {},
   "outputs": [
    {
     "name": "stdout",
     "output_type": "stream",
     "text": [
      "(0, 0) -> 1\n",
      "(1, 0) -> 1\n",
      "(0, 1) -> 1\n",
      "(1, 1) -> 0\n"
     ]
    }
   ],
   "source": [
    "if __name__ == '__main__':\n",
    "    for xs in [(0, 0), (1, 0), (0, 1), (1, 1)]:\n",
    "        y = NAND(xs[0], xs[1])\n",
    "        print(str(xs) + \" -> \" + str(y))"
   ]
  },
  {
   "cell_type": "markdown",
   "id": "35bf4930",
   "metadata": {},
   "source": [
    "---"
   ]
  },
  {
   "cell_type": "markdown",
   "id": "a0984e30",
   "metadata": {},
   "source": [
    "# 퍼셉트론의 한계"
   ]
  },
  {
   "cell_type": "markdown",
   "id": "489991d6",
   "metadata": {},
   "source": [
    "## XOR 게이트"
   ]
  },
  {
   "cell_type": "markdown",
   "id": "3be11cb3",
   "metadata": {},
   "source": [
    "- 입력 신호 중 하나만 1일 때 1을 출력한다."
   ]
  },
  {
   "cell_type": "markdown",
   "id": "5ec6f05e",
   "metadata": {},
   "source": [
    "<div style=\"display: flex; justify-content: center; align-items: center;\">\n",
    "  <img src=\"https://user-images.githubusercontent.com/81560908/235343265-51c8a4c7-faab-4ca4-ad2f-892cb18acb7e.png\" alt=\"이미지1\" width=\"200\" style=\"margin-right: 20px;\">\n",
    "  <img src=\"https://user-images.githubusercontent.com/81560908/235343387-a9e3ac77-9133-498a-8eff-84f728cd7b3e.png\" alt=\"이미지2\" height=\"50\">\n",
    "</div>"
   ]
  },
  {
   "cell_type": "markdown",
   "id": "dba99b1f",
   "metadata": {},
   "source": [
    "- 지금까지 본 퍼셉트론으로는 XOR 게이트 구현 불가"
   ]
  },
  {
   "cell_type": "markdown",
   "id": "50d6429a",
   "metadata": {},
   "source": [
    "---"
   ]
  },
  {
   "cell_type": "markdown",
   "id": "a308c40b",
   "metadata": {},
   "source": [
    "# 다층 퍼셉트론"
   ]
  },
  {
   "cell_type": "markdown",
   "id": "85c0f22a",
   "metadata": {},
   "source": [
    "- 층이 여러 개인 퍼셉트론"
   ]
  },
  {
   "cell_type": "markdown",
   "id": "88e91752",
   "metadata": {},
   "source": [
    "## XOR 게이트 구현"
   ]
  },
  {
   "cell_type": "markdown",
   "id": "4f71b5da",
   "metadata": {},
   "source": [
    "![image](https://user-images.githubusercontent.com/81560908/235343837-9960a131-a3eb-4a6d-97a4-0d926e1f3a07.png)"
   ]
  },
  {
   "cell_type": "markdown",
   "id": "4f1ba4c4",
   "metadata": {},
   "source": [
    "<div style=\"display: flex; justify-content: center; align-items: center;\">\n",
    "  <img src=\"https://user-images.githubusercontent.com/81560908/235343857-6834aeae-0bb6-43c1-b3fb-d3467b782c11.png\" alt=\"이미지1\" style=\"margin-right: 20px;\">\n",
    "  <img src=\"https://user-images.githubusercontent.com/81560908/235343930-1c83b167-42c5-4ea8-a21b-e68959a19a64.png\" alt=\"이미지2\">\n",
    "</div>"
   ]
  },
  {
   "cell_type": "markdown",
   "id": "cd986dc9",
   "metadata": {},
   "source": [
    "![image](https://user-images.githubusercontent.com/81560908/235344260-bbc2232d-700f-415a-b0d0-c0e766360e78.png)"
   ]
  },
  {
   "cell_type": "code",
   "execution_count": 7,
   "id": "85c17e6a",
   "metadata": {},
   "outputs": [],
   "source": [
    "def XOR(x1, x2):\n",
    "    s1 = NAND(x1, x2)\n",
    "    s2 = OR(x1, x2)\n",
    "    y = AND(s1, s2)\n",
    "    return y"
   ]
  },
  {
   "cell_type": "code",
   "execution_count": 8,
   "id": "d5327372",
   "metadata": {},
   "outputs": [
    {
     "name": "stdout",
     "output_type": "stream",
     "text": [
      "(0, 0) -> 0\n",
      "(1, 0) -> 1\n",
      "(0, 1) -> 1\n",
      "(1, 1) -> 0\n"
     ]
    }
   ],
   "source": [
    "if __name__ == '__main__':\n",
    "    for xs in [(0, 0), (1, 0), (0, 1), (1, 1)]:\n",
    "        y = XOR(xs[0], xs[1])\n",
    "        print(str(xs) + \" -> \" + str(y))"
   ]
  }
 ],
 "metadata": {
  "kernelspec": {
   "display_name": "Python 3 (ipykernel)",
   "language": "python",
   "name": "python3"
  },
  "language_info": {
   "codemirror_mode": {
    "name": "ipython",
    "version": 3
   },
   "file_extension": ".py",
   "mimetype": "text/x-python",
   "name": "python",
   "nbconvert_exporter": "python",
   "pygments_lexer": "ipython3",
   "version": "3.10.9"
  }
 },
 "nbformat": 4,
 "nbformat_minor": 5
}
