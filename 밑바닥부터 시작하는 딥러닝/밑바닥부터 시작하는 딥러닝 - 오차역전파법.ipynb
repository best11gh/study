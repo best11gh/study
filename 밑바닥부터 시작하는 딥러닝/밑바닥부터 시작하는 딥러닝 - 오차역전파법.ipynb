{
 "cells": [
  {
   "cell_type": "markdown",
   "id": "3d3c718f",
   "metadata": {},
   "source": [
    "# 오차역전파법"
   ]
  },
  {
   "cell_type": "markdown",
   "id": "ed238faf",
   "metadata": {},
   "source": [
    "- 수치 미분을 사용해서 가중치 매개변수에 대한 손실 함수의 기울기를 구하는 것은 단순하고 구현하기도 쉽지만 계산 시간이 오래 걸린다."
   ]
  },
  {
   "cell_type": "markdown",
   "id": "3cc034eb",
   "metadata": {},
   "source": [
    "- 오차역전파법 : 가중치 매개변수의 기울기를 효율적으로 계산\n",
    "\n",
    "- 이해하는 방법 : 수식 / 계산 그래프"
   ]
  },
  {
   "cell_type": "markdown",
   "id": "165635c7",
   "metadata": {},
   "source": [
    "\n"
   ]
  },
  {
   "cell_type": "markdown",
   "id": "82653586",
   "metadata": {},
   "source": [
    "\n"
   ]
  },
  {
   "cell_type": "markdown",
   "id": "cc3c9528",
   "metadata": {},
   "source": [
    "---"
   ]
  },
  {
   "cell_type": "markdown",
   "id": "7df252c9",
   "metadata": {},
   "source": [
    "# 계산 그래프"
   ]
  },
  {
   "cell_type": "markdown",
   "id": "5e940ed2",
   "metadata": {},
   "source": [
    "- 계산 과정을 그래프로 나타낸 것"
   ]
  },
  {
   "cell_type": "markdown",
   "id": "11146b7b",
   "metadata": {},
   "source": [
    "- 슈퍼에서 1개에 100원인 사과를 2개 샀을 때 지불금액을 구하시오. 단 소비세가 10% 부과된다."
   ]
  },
  {
   "cell_type": "markdown",
   "id": "55205ca8",
   "metadata": {},
   "source": [
    "![image](https://user-images.githubusercontent.com/81560908/235011279-8f108446-9556-4968-81a3-d18f7af9b28d.png)"
   ]
  },
  {
   "cell_type": "markdown",
   "id": "3825b2aa",
   "metadata": {},
   "source": [
    "- '사과 개수'와 '소비세'를 변수로 취급해 원 밖에 표기"
   ]
  },
  {
   "cell_type": "markdown",
   "id": "d22495d5",
   "metadata": {},
   "source": [
    "\n"
   ]
  },
  {
   "cell_type": "markdown",
   "id": "7dc88fba",
   "metadata": {},
   "source": [
    "### 순전파"
   ]
  },
  {
   "cell_type": "markdown",
   "id": "ae3ca7f5",
   "metadata": {},
   "source": [
    "- 계산을 왼쪽에서 오른쪽으로 진행하는 단계 / 계산 그래프의 출발점부터 종착점으로의 전파"
   ]
  },
  {
   "cell_type": "markdown",
   "id": "261e6ec3",
   "metadata": {},
   "source": [
    "\n"
   ]
  },
  {
   "cell_type": "markdown",
   "id": "dd15b457",
   "metadata": {},
   "source": [
    "### 역전파"
   ]
  },
  {
   "cell_type": "markdown",
   "id": "9e53f88d",
   "metadata": {},
   "source": [
    "- 오른쪽에서 왼쪽의 전파\n",
    "\n",
    "- 미분을 계산할 때 중요한 역할을 한다. "
   ]
  },
  {
   "cell_type": "markdown",
   "id": "867b8f33",
   "metadata": {},
   "source": [
    "\n"
   ]
  },
  {
   "cell_type": "markdown",
   "id": "318bdbfb",
   "metadata": {},
   "source": [
    "## 계산 그래프 이점"
   ]
  },
  {
   "cell_type": "markdown",
   "id": "7e64f263",
   "metadata": {},
   "source": [
    "1. 국소적 계산\n",
    "\n",
    "    - 전체가 아무리 복잡해도 각 노드에서 단순한 계산에 집중하여 문제를 단순화할 수 있다."
   ]
  },
  {
   "cell_type": "markdown",
   "id": "64fc78c9",
   "metadata": {},
   "source": [
    "![image](https://user-images.githubusercontent.com/81560908/235114096-d29f19ae-066f-490c-88bc-5b94e95e9c99.png)"
   ]
  },
  {
   "cell_type": "markdown",
   "id": "cb432fa8",
   "metadata": {},
   "source": [
    " \n",
    "2. 중간 계산 결과를 모두 보관할 수 있다."
   ]
  },
  {
   "cell_type": "markdown",
   "id": "966ddd07",
   "metadata": {},
   "source": [
    "3. 순전파와 역전파를 활용해서 각 변수의 미분을 효율적으로 계산할 수 있다. "
   ]
  },
  {
   "cell_type": "markdown",
   "id": "f1208c24",
   "metadata": {},
   "source": [
    "\n"
   ]
  },
  {
   "cell_type": "markdown",
   "id": "57207fde",
   "metadata": {},
   "source": [
    "\n"
   ]
  },
  {
   "cell_type": "markdown",
   "id": "2db4ab1d",
   "metadata": {},
   "source": [
    "---"
   ]
  },
  {
   "cell_type": "markdown",
   "id": "c897d358",
   "metadata": {},
   "source": [
    "# 연쇄 법칙"
   ]
  },
  {
   "cell_type": "markdown",
   "id": "b4d6435d",
   "metadata": {},
   "source": [
    "- 국소적 미분을 전달하는 원리 / 계산 그래프 상의 역전파와 같다."
   ]
  },
  {
   "cell_type": "markdown",
   "id": "781c0c3e",
   "metadata": {},
   "source": [
    "\n"
   ]
  },
  {
   "cell_type": "markdown",
   "id": "d631a922",
   "metadata": {},
   "source": [
    "## 계산 그래프의 역전파"
   ]
  },
  {
   "cell_type": "markdown",
   "id": "323dfba6",
   "metadata": {},
   "source": [
    "![image](https://user-images.githubusercontent.com/81560908/235013305-7ccae75f-ea03-4023-95e5-25b58fe0007f.png)"
   ]
  },
  {
   "cell_type": "markdown",
   "id": "dec9a113",
   "metadata": {},
   "source": [
    "- 신호 E에 노드의 국소적 미분을 곱한 후 다음 노드로 전달하는 것"
   ]
  },
  {
   "cell_type": "markdown",
   "id": "952cdc50",
   "metadata": {},
   "source": [
    "- 목표로 하는 미분 값을 효율적으로 구할 수 있다."
   ]
  },
  {
   "cell_type": "markdown",
   "id": "ea636494",
   "metadata": {},
   "source": [
    "\n"
   ]
  },
  {
   "cell_type": "markdown",
   "id": "fe68dc97",
   "metadata": {},
   "source": [
    "## 원리"
   ]
  },
  {
   "cell_type": "markdown",
   "id": "689a1d51",
   "metadata": {},
   "source": [
    "- 합성 함수의 미분은 합성 함수를 구성하는 각 함수의 미분의 곱으로 나타낼 수 있다."
   ]
  },
  {
   "cell_type": "markdown",
   "id": "322f8e64",
   "metadata": {},
   "source": [
    "<div style=\"text-align: center;\">\n",
    "    <img src=\"https://user-images.githubusercontent.com/81560908/235023055-c5186fbe-1938-41a7-8fed-e6d65c7a2e3a.png\" style=\"display: inline-block;\">\n",
    "    <img src=\"https://user-images.githubusercontent.com/81560908/235023237-3112d68d-ca6f-4e3b-9767-90849f37e539.png\" style=\"display: inline-block;\">\n",
    "</div>"
   ]
  },
  {
   "cell_type": "markdown",
   "id": "fbd40422",
   "metadata": {},
   "source": [
    "\n"
   ]
  },
  {
   "cell_type": "markdown",
   "id": "d5bf90cd",
   "metadata": {},
   "source": [
    "\n"
   ]
  },
  {
   "cell_type": "markdown",
   "id": "009a9682",
   "metadata": {},
   "source": [
    "---"
   ]
  },
  {
   "cell_type": "markdown",
   "id": "ffcfa00e",
   "metadata": {},
   "source": [
    "# 역전파"
   ]
  },
  {
   "cell_type": "markdown",
   "id": "3ba605e6",
   "metadata": {},
   "source": [
    "\n"
   ]
  },
  {
   "cell_type": "markdown",
   "id": "772e65ac",
   "metadata": {},
   "source": [
    "## 덧셈 노드의 역전파"
   ]
  },
  {
   "cell_type": "markdown",
   "id": "f2210039",
   "metadata": {},
   "source": [
    "z = x +y "
   ]
  },
  {
   "cell_type": "markdown",
   "id": "1855c1dd",
   "metadata": {},
   "source": [
    "![image](https://user-images.githubusercontent.com/81560908/235023497-40a9f17b-70cd-41c5-82e4-70f01911a3df.png)"
   ]
  },
  {
   "cell_type": "markdown",
   "id": "672fb902",
   "metadata": {},
   "source": [
    "\n"
   ]
  },
  {
   "cell_type": "markdown",
   "id": "b96b7831",
   "metadata": {},
   "source": [
    "## 곱셈 노드의 역전파"
   ]
  },
  {
   "cell_type": "markdown",
   "id": "1f8b7c1b",
   "metadata": {},
   "source": [
    "z = xy"
   ]
  },
  {
   "cell_type": "markdown",
   "id": "0e5b32a8",
   "metadata": {},
   "source": [
    "![image](https://user-images.githubusercontent.com/81560908/235023404-c8344d0c-eeed-44d8-aff4-88c8a61cc449.png)"
   ]
  },
  {
   "cell_type": "markdown",
   "id": "23f9af92",
   "metadata": {},
   "source": [
    "\n"
   ]
  },
  {
   "cell_type": "markdown",
   "id": "7e9f4878",
   "metadata": {},
   "source": [
    "\n"
   ]
  },
  {
   "cell_type": "markdown",
   "id": "b5f14e9f",
   "metadata": {},
   "source": [
    "---"
   ]
  },
  {
   "cell_type": "markdown",
   "id": "0050fad3",
   "metadata": {},
   "source": [
    "# 단순한 계층 구현하기"
   ]
  },
  {
   "cell_type": "markdown",
   "id": "4b2d7b18",
   "metadata": {},
   "source": [
    "\n"
   ]
  },
  {
   "cell_type": "markdown",
   "id": "3d6b8fbd",
   "metadata": {},
   "source": [
    "## 곱셈 계층"
   ]
  },
  {
   "cell_type": "code",
   "execution_count": 1,
   "id": "c7389385",
   "metadata": {},
   "outputs": [],
   "source": [
    "class MulLayer:\n",
    "    def __init__(self):                   # 순전파 시의 입력 값을 유지하기 위해 인스턴스 변수인 x와 y를 초기화\n",
    "        self.x = None\n",
    "        self.y = None\n",
    "\n",
    "    def forward(self, x, y):\n",
    "        self.x = x\n",
    "        self.y = y                \n",
    "        out = x * y\n",
    "        \n",
    "        return out\n",
    "\n",
    "    def backward(self, dout):\n",
    "        dx = dout * self.y  # x와 y를 바꾼다.\n",
    "        dy = dout * self.x\n",
    "\n",
    "        return dx, dy"
   ]
  },
  {
   "cell_type": "markdown",
   "id": "a2d93b2a",
   "metadata": {},
   "source": [
    "![image](https://user-images.githubusercontent.com/81560908/235027211-6ee84ba8-1c9f-4447-ae94-b62384cf2ce9.png)"
   ]
  },
  {
   "cell_type": "code",
   "execution_count": 2,
   "id": "93a40458",
   "metadata": {},
   "outputs": [
    {
     "name": "stdout",
     "output_type": "stream",
     "text": [
      "price: 220\n"
     ]
    }
   ],
   "source": [
    "apple = 100\n",
    "apple_num = 2\n",
    "tax = 1.1\n",
    "\n",
    "# 계층 (layer)\n",
    "mul_apple_layer = MulLayer()\n",
    "mul_tax_layer = MulLayer()\n",
    "\n",
    "# 순전파 (forward)\n",
    "apple_price = mul_apple_layer.forward(apple, apple_num)\n",
    "price = mul_tax_layer.forward(apple_price, tax)\n",
    "\n",
    "print(\"price:\", int(price))"
   ]
  },
  {
   "cell_type": "code",
   "execution_count": 3,
   "id": "e2689d20",
   "metadata": {},
   "outputs": [
    {
     "name": "stdout",
     "output_type": "stream",
     "text": [
      "dApple: 2.2\n",
      "dApple_num: 110\n",
      "dTax: 200\n"
     ]
    }
   ],
   "source": [
    "# 역전파 (backward)\n",
    "\n",
    "dprice = 1   # 순전파의 출력에 대한 미분\n",
    "dapple_price, dtax = mul_tax_layer.backward(dprice)\n",
    "dapple, dapple_num = mul_apple_layer.backward(dapple_price)\n",
    "\n",
    "print(\"dApple:\", dapple)\n",
    "print(\"dApple_num:\", int(dapple_num))\n",
    "print(\"dTax:\", dtax)"
   ]
  },
  {
   "cell_type": "markdown",
   "id": "6b2637df",
   "metadata": {},
   "source": [
    "\n"
   ]
  },
  {
   "cell_type": "markdown",
   "id": "dfd238c7",
   "metadata": {},
   "source": [
    "## 덧셈 계층"
   ]
  },
  {
   "cell_type": "code",
   "execution_count": 4,
   "id": "6eb010e6",
   "metadata": {},
   "outputs": [],
   "source": [
    "class AddLayer:\n",
    "    def __init__(self):                   \n",
    "        pass\n",
    "\n",
    "    def forward(self, x, y):          \n",
    "        out = x + y\n",
    "        return out\n",
    "\n",
    "    def backward(self, dout):\n",
    "        dx = dout * 1\n",
    "        dy = dout * 1\n",
    "        return dx, dy"
   ]
  },
  {
   "cell_type": "markdown",
   "id": "ec70254f",
   "metadata": {},
   "source": [
    "![image](https://user-images.githubusercontent.com/81560908/235026999-4cbe1a00-840b-4d06-91b3-60badeb6ee0f.png)"
   ]
  },
  {
   "cell_type": "code",
   "execution_count": 5,
   "id": "2cbc488d",
   "metadata": {},
   "outputs": [
    {
     "name": "stdout",
     "output_type": "stream",
     "text": [
      "price: 715\n",
      "dApple: 2.2\n",
      "dApple_num: 110\n",
      "dOrange: 3.3000000000000003\n",
      "dOrange_num: 165\n",
      "dTax: 650\n"
     ]
    }
   ],
   "source": [
    "apple = 100\n",
    "apple_num = 2\n",
    "orange = 150\n",
    "orange_num = 3\n",
    "tax = 1.1\n",
    "\n",
    "# layer\n",
    "mul_apple_layer = MulLayer()\n",
    "mul_orange_layer = MulLayer()\n",
    "add_apple_orange_layer = AddLayer()\n",
    "mul_tax_layer = MulLayer()\n",
    "\n",
    "# forward\n",
    "apple_price = mul_apple_layer.forward(apple, apple_num)  # (1)\n",
    "orange_price = mul_orange_layer.forward(orange, orange_num)  # (2)\n",
    "all_price = add_apple_orange_layer.forward(apple_price, orange_price)  # (3)\n",
    "price = mul_tax_layer.forward(all_price, tax)  # (4)\n",
    "\n",
    "# backward\n",
    "dprice = 1\n",
    "dall_price, dtax = mul_tax_layer.backward(dprice)  # (4)\n",
    "dapple_price, dorange_price = add_apple_orange_layer.backward(dall_price)  # (3)\n",
    "dorange, dorange_num = mul_orange_layer.backward(dorange_price)  # (2)\n",
    "dapple, dapple_num = mul_apple_layer.backward(dapple_price)  # (1)\n",
    "\n",
    "print(\"price:\", int(price))\n",
    "print(\"dApple:\", dapple)\n",
    "print(\"dApple_num:\", int(dapple_num))\n",
    "print(\"dOrange:\", dorange)\n",
    "print(\"dOrange_num:\", int(dorange_num))\n",
    "print(\"dTax:\", dtax)"
   ]
  },
  {
   "cell_type": "markdown",
   "id": "5f7dd427",
   "metadata": {},
   "source": [
    "\n"
   ]
  },
  {
   "cell_type": "markdown",
   "id": "bd75e11a",
   "metadata": {},
   "source": [
    "\n"
   ]
  },
  {
   "cell_type": "markdown",
   "id": "984c94f0",
   "metadata": {},
   "source": [
    "---"
   ]
  },
  {
   "cell_type": "markdown",
   "id": "99cc1288",
   "metadata": {},
   "source": [
    "# 활성화 함수 계층 구현하기"
   ]
  },
  {
   "cell_type": "markdown",
   "id": "0a55e54b",
   "metadata": {},
   "source": [
    "\n"
   ]
  },
  {
   "cell_type": "markdown",
   "id": "f41a7ee8",
   "metadata": {},
   "source": [
    "## ReLU 계층"
   ]
  },
  {
   "cell_type": "markdown",
   "id": "b1ad6590",
   "metadata": {},
   "source": [
    "<div style=\"text-align: center;\">\n",
    "    <img src=\"https://user-images.githubusercontent.com/81560908/235031149-bbe71c59-ae10-4993-b24c-4d19e1406de2.png\" style=\"display: inline-block;\">\n",
    "    <img src=\"https://user-images.githubusercontent.com/81560908/235031215-67d926d6-325d-45cd-9ce1-f22cdca73b46.png\" style=\"display: inline-block;\">\n",
    "</div>"
   ]
  },
  {
   "cell_type": "markdown",
   "id": "b5b7d077",
   "metadata": {},
   "source": [
    "- 순전파 때의 입력인 x가 0보다 크면 역전파는 상류의 값을 그대로 하류로 흘린다. \n",
    "- 순전파 때의 입력인 x가 0 이하면 역전파 때는 하류로 신호를 보내지 않는다. (0을 보낸다.)\n",
    "\n",
    "    ![image](https://user-images.githubusercontent.com/81560908/235032225-9e6525e9-8253-4a63-9e39-c58bf89036d0.png)"
   ]
  },
  {
   "cell_type": "code",
   "execution_count": 6,
   "id": "0141d1e9",
   "metadata": {},
   "outputs": [],
   "source": [
    "class Relu:\n",
    "    def __init__(self):\n",
    "        self.mask = None\n",
    "\n",
    "    def forward(self, x):\n",
    "        self.mask = (x <= 0)\n",
    "        out = x.copy()\n",
    "        out[self.mask] = 0\n",
    "\n",
    "        return out\n",
    "\n",
    "    def backward(self, dout):\n",
    "        dout[self.mask] = 0\n",
    "        dx = dout\n",
    "\n",
    "        return dx"
   ]
  },
  {
   "cell_type": "markdown",
   "id": "d49ce65a",
   "metadata": {},
   "source": [
    "\n"
   ]
  },
  {
   "cell_type": "markdown",
   "id": "b005f3b1",
   "metadata": {},
   "source": [
    "## Sigmoid 함수"
   ]
  },
  {
   "cell_type": "markdown",
   "id": "f50cbd4d",
   "metadata": {},
   "source": [
    "![image](https://user-images.githubusercontent.com/81560908/235033969-6971bfe1-6c39-47c5-99f5-39adc68d61cd.png)"
   ]
  },
  {
   "cell_type": "markdown",
   "id": "026bbf48",
   "metadata": {},
   "source": [
    "![image](https://user-images.githubusercontent.com/81560908/235034463-3245cfc2-6a02-4662-9193-07b0e1fda01b.png)"
   ]
  },
  {
   "cell_type": "markdown",
   "id": "d5f05b1b",
   "metadata": {},
   "source": [
    "![image](https://user-images.githubusercontent.com/81560908/235034405-19396c40-79f8-441b-86c6-fed6bb05d7fd.png)"
   ]
  },
  {
   "cell_type": "markdown",
   "id": "06fb4408",
   "metadata": {},
   "source": [
    "- 순전파의 입력 x와 출력 y만으로 계산할 수 있다.\n",
    "\n",
    "=> 중간 과정을 모두 묶어 단순한 'sigmoid' 노드 하나로 대체할 수 있다."
   ]
  },
  {
   "cell_type": "markdown",
   "id": "f0c6943e",
   "metadata": {},
   "source": [
    "![image](https://user-images.githubusercontent.com/81560908/235034967-b0c0bbc4-ce6b-4265-a469-cb61d1c6c3dd.png)"
   ]
  },
  {
   "cell_type": "markdown",
   "id": "85af35f8",
   "metadata": {},
   "source": [
    "- 순전파의 출력(y)만으로 계산할 수 있다."
   ]
  },
  {
   "cell_type": "markdown",
   "id": "4b5fafa0",
   "metadata": {},
   "source": [
    "![image](https://user-images.githubusercontent.com/81560908/235035137-dc82f471-0bf1-41f4-9c41-0628a40fd788.png)"
   ]
  },
  {
   "cell_type": "code",
   "execution_count": 7,
   "id": "e79cbb10",
   "metadata": {},
   "outputs": [],
   "source": [
    "class Sigmoid:\n",
    "    def __init__(self):\n",
    "        self.out = None\n",
    "\n",
    "    def forward(self, x):\n",
    "        out = sigmoid(x)\n",
    "        self.out = out\n",
    "        return out\n",
    "\n",
    "    def backward(self, dout):\n",
    "        dx = dout * (1.0 - self.out) * self.out             # 순전파의 출력을 out에 보관했다가 역전파 계산 때 사용\n",
    "\n",
    "        return dx"
   ]
  },
  {
   "cell_type": "markdown",
   "id": "2d1ca534",
   "metadata": {},
   "source": [
    "\n"
   ]
  },
  {
   "cell_type": "markdown",
   "id": "61885df2",
   "metadata": {},
   "source": [
    "\n"
   ]
  },
  {
   "cell_type": "markdown",
   "id": "c51dfc20",
   "metadata": {},
   "source": [
    "---"
   ]
  },
  {
   "cell_type": "markdown",
   "id": "0264bad7",
   "metadata": {},
   "source": [
    "# Affine/Softmax 계층 구현하기"
   ]
  },
  {
   "cell_type": "markdown",
   "id": "87460e57",
   "metadata": {},
   "source": [
    "\n"
   ]
  },
  {
   "cell_type": "markdown",
   "id": "27a82ee1",
   "metadata": {},
   "source": [
    "## Affine 계층"
   ]
  },
  {
   "cell_type": "markdown",
   "id": "28451fc8",
   "metadata": {},
   "source": [
    "- 어파인 변환을 수행하는 처리\n",
    "\n",
    "- 어파인 변환 (affine transformation) : 신경망의 순전파 때 수행하는 행령의 곱"
   ]
  },
  {
   "cell_type": "markdown",
   "id": "8496829b",
   "metadata": {},
   "source": [
    "X : 입력  W : 가중치  B : 편향\n",
    "\n",
    "Y = np.dot(X, W) + B\n",
    "\n",
    "Y => 활성화 함수로 변환해 다음 층으로 전파하는 것이 신경망 순전파의 흐름"
   ]
  },
  {
   "cell_type": "markdown",
   "id": "e9538416",
   "metadata": {},
   "source": [
    "- 행렬의 곱에서는 대응하는 차원의 원소 수를 일치시키는 것이 핵심이다."
   ]
  },
  {
   "cell_type": "markdown",
   "id": "be4c421a",
   "metadata": {},
   "source": [
    "![image](https://user-images.githubusercontent.com/81560908/235036524-b1c7e3ea-3f38-4612-bb8d-399a159a23b1.png)"
   ]
  },
  {
   "cell_type": "markdown",
   "id": "199af2fe",
   "metadata": {},
   "source": [
    "\n"
   ]
  },
  {
   "cell_type": "markdown",
   "id": "36f4755b",
   "metadata": {},
   "source": [
    "### 계산 그래프"
   ]
  },
  {
   "cell_type": "markdown",
   "id": "b3f9ad47",
   "metadata": {},
   "source": [
    "![image](https://user-images.githubusercontent.com/81560908/235038902-c93cf15c-b0e4-4cc5-823a-ad94f25bfb06.png)"
   ]
  },
  {
   "cell_type": "markdown",
   "id": "7f9fd222",
   "metadata": {},
   "source": [
    "\n"
   ]
  },
  {
   "cell_type": "markdown",
   "id": "a5c03d1d",
   "metadata": {},
   "source": [
    "## 배치용 Affine 계층"
   ]
  },
  {
   "cell_type": "markdown",
   "id": "e0ba3b7c",
   "metadata": {},
   "source": [
    "- 데이터 N개를 묶어 순전파하는 경우"
   ]
  },
  {
   "cell_type": "markdown",
   "id": "65b98afd",
   "metadata": {},
   "source": [
    "![image](https://user-images.githubusercontent.com/81560908/235039777-c0a9939b-fb03-4a51-9fbb-707fdfbdc20d.png)"
   ]
  },
  {
   "cell_type": "code",
   "execution_count": 8,
   "id": "83f9da2b",
   "metadata": {},
   "outputs": [],
   "source": [
    "class Affine:\n",
    "    def __init__(self, W, b):\n",
    "        self.W = W\n",
    "        self.b = b\n",
    "        \n",
    "        self.x = None\n",
    "        self.original_x_shape = None\n",
    "        # 가중치와 편향 매개변수의 미분\n",
    "        self.dW = None\n",
    "        self.db = None\n",
    "\n",
    "    def forward(self, x):\n",
    "        # 텐서 대응\n",
    "        self.original_x_shape = x.shape\n",
    "        x = x.reshape(x.shape[0], -1)\n",
    "        self.x = x\n",
    "\n",
    "        out = np.dot(self.x, self.W) + self.b\n",
    "\n",
    "        return out\n",
    "\n",
    "    def backward(self, dout):\n",
    "        dx = np.dot(dout, self.W.T)\n",
    "        self.dW = np.dot(self.x.T, dout)\n",
    "        self.db = np.sum(dout, axis=0)\n",
    "        \n",
    "        dx = dx.reshape(*self.original_x_shape)  # 입력 데이터 모양 변경(텐서 대응)\n",
    "        return dx"
   ]
  },
  {
   "cell_type": "markdown",
   "id": "91495541",
   "metadata": {},
   "source": [
    "\n"
   ]
  },
  {
   "cell_type": "markdown",
   "id": "4e10c0f3",
   "metadata": {},
   "source": [
    "## Softmax-with-Loss 계층"
   ]
  },
  {
   "cell_type": "markdown",
   "id": "abcc61e9",
   "metadata": {},
   "source": [
    "- 소프트맥스 계층을 구현할 때, 손실 함수인 교차 엔트로피 오차도 포함해서 구현하는 경우"
   ]
  },
  {
   "cell_type": "markdown",
   "id": "17f83e81",
   "metadata": {},
   "source": [
    "\n"
   ]
  },
  {
   "cell_type": "markdown",
   "id": "9f622b16",
   "metadata": {},
   "source": [
    "### Softmax 계층"
   ]
  },
  {
   "cell_type": "markdown",
   "id": "5c2963f4",
   "metadata": {},
   "source": [
    "- 입력 값을 정규화하여 출력한다. (출력의 합이 1이 되도록 변형)"
   ]
  },
  {
   "cell_type": "markdown",
   "id": "51528278",
   "metadata": {},
   "source": [
    "- 추론할 때는 필요없고 신경망을 학습할 때 필요하다."
   ]
  },
  {
   "cell_type": "markdown",
   "id": "0189401c",
   "metadata": {},
   "source": [
    "![image](https://user-images.githubusercontent.com/81560908/235042297-7bb0242e-086d-4a2b-bcfc-692b9bd521ed.png)"
   ]
  },
  {
   "cell_type": "code",
   "execution_count": 9,
   "id": "f5a5834c",
   "metadata": {},
   "outputs": [],
   "source": [
    "class SoftmaxWithLoss:\n",
    "    def __init__(self):\n",
    "        self.loss = None # 손실함수\n",
    "        self.y = None    # softmax의 출력\n",
    "        self.t = None    # 정답 레이블(원-핫 인코딩 형태)\n",
    "        \n",
    "    def forward(self, x, t):\n",
    "        self.t = t\n",
    "        self.y = softmax(x)\n",
    "        self.loss = cross_entropy_error(self.y, self.t)\n",
    "        \n",
    "        return self.loss\n",
    "\n",
    "    def backward(self, dout=1):\n",
    "        batch_size = self.t.shape[0]\n",
    "        if self.t.size == self.y.size: # 정답 레이블이 원-핫 인코딩 형태일 때\n",
    "            dx = (self.y - self.t) / batch_size\n",
    "        else:\n",
    "            dx = self.y.copy()\n",
    "            dx[np.arange(batch_size), self.t] -= 1\n",
    "            dx = dx / batch_size\n",
    "        \n",
    "        return dx"
   ]
  },
  {
   "cell_type": "markdown",
   "id": "de8623dd",
   "metadata": {},
   "source": [
    "\n"
   ]
  },
  {
   "cell_type": "markdown",
   "id": "fad4d7e0",
   "metadata": {},
   "source": [
    "\n"
   ]
  },
  {
   "cell_type": "markdown",
   "id": "f36dd9d6",
   "metadata": {},
   "source": [
    "---"
   ]
  },
  {
   "cell_type": "markdown",
   "id": "c112cf8c",
   "metadata": {},
   "source": [
    "# 오차역전파법 구현하기"
   ]
  },
  {
   "cell_type": "markdown",
   "id": "9eafa8ab",
   "metadata": {},
   "source": [
    "- 지금까지 구현한 계층을 조합해서 신경망 구축"
   ]
  },
  {
   "cell_type": "markdown",
   "id": "65cb08eb",
   "metadata": {},
   "source": [
    "\n"
   ]
  },
  {
   "cell_type": "markdown",
   "id": "e6410e9c",
   "metadata": {},
   "source": [
    "## 오차역전파법 적용한 신경망 구현"
   ]
  },
  {
   "cell_type": "code",
   "execution_count": 10,
   "id": "59f7aadd",
   "metadata": {},
   "outputs": [],
   "source": [
    "import sys, os\n",
    "sys.path.append(os.pardir)  # 부모 디렉터리의 파일을 가져올 수 있도록 설정\n",
    "import numpy as np\n",
    "from common.layers import *\n",
    "from common.gradient import numerical_gradient\n",
    "from collections import OrderedDict\n",
    "\n",
    "import sys\n",
    "sys.path.append('/path/to/root')\n",
    "\n",
    "\n",
    "class TwoLayerNet:\n",
    "\n",
    "    def __init__(self, input_size, hidden_size, output_size, weight_init_std = 0.01):\n",
    "        # 가중치 초기화\n",
    "        self.params = {}\n",
    "        self.params['W1'] = weight_init_std * np.random.randn(input_size, hidden_size)\n",
    "        self.params['b1'] = np.zeros(hidden_size)\n",
    "        self.params['W2'] = weight_init_std * np.random.randn(hidden_size, output_size) \n",
    "        self.params['b2'] = np.zeros(output_size)\n",
    "\n",
    "        # 계층 생성\n",
    "        self.layers = OrderedDict()\n",
    "        self.layers['Affine1'] = Affine(self.params['W1'], self.params['b1'])\n",
    "        self.layers['Relu1'] = Relu()\n",
    "        self.layers['Affine2'] = Affine(self.params['W2'], self.params['b2'])\n",
    "\n",
    "        self.lastLayer = SoftmaxWithLoss()\n",
    "        \n",
    "    def predict(self, x):\n",
    "        for layer in self.layers.values():\n",
    "            x = layer.forward(x)\n",
    "        \n",
    "        return x\n",
    "        \n",
    "    # x : 입력 데이터, t : 정답 레이블\n",
    "    def loss(self, x, t):\n",
    "        y = self.predict(x)\n",
    "        return self.lastLayer.forward(y, t)\n",
    "    \n",
    "    def accuracy(self, x, t):\n",
    "        y = self.predict(x)\n",
    "        y = np.argmax(y, axis=1)\n",
    "        if t.ndim != 1 : t = np.argmax(t, axis=1)\n",
    "        \n",
    "        accuracy = np.sum(y == t) / float(x.shape[0])\n",
    "        return accuracy\n",
    "        \n",
    "    # x : 입력 데이터, t : 정답 레이블\n",
    "    def numerical_gradient(self, x, t):\n",
    "        loss_W = lambda W: self.loss(x, t)\n",
    "        \n",
    "        grads = {}\n",
    "        grads['W1'] = numerical_gradient(loss_W, self.params['W1'])\n",
    "        grads['b1'] = numerical_gradient(loss_W, self.params['b1'])\n",
    "        grads['W2'] = numerical_gradient(loss_W, self.params['W2'])\n",
    "        grads['b2'] = numerical_gradient(loss_W, self.params['b2'])\n",
    "        \n",
    "        return grads\n",
    "        \n",
    "    def gradient(self, x, t):\n",
    "        # forward\n",
    "        self.loss(x, t)\n",
    "\n",
    "        # backward\n",
    "        dout = 1\n",
    "        dout = self.lastLayer.backward(dout)\n",
    "        \n",
    "        layers = list(self.layers.values())\n",
    "        layers.reverse()\n",
    "        for layer in layers:\n",
    "            dout = layer.backward(dout)\n",
    "\n",
    "        # 결과 저장\n",
    "        grads = {}\n",
    "        grads['W1'], grads['b1'] = self.layers['Affine1'].dW, self.layers['Affine1'].db\n",
    "        grads['W2'], grads['b2'] = self.layers['Affine2'].dW, self.layers['Affine2'].db\n",
    "\n",
    "        return grads"
   ]
  },
  {
   "cell_type": "markdown",
   "id": "b46f3877",
   "metadata": {},
   "source": [
    "\n"
   ]
  },
  {
   "cell_type": "markdown",
   "id": "20d6dac3",
   "metadata": {},
   "source": [
    "## 오차역전파법으로 구한 기울기 검증"
   ]
  },
  {
   "cell_type": "markdown",
   "id": "e4b60aeb",
   "metadata": {},
   "source": [
    "수치 미분은 구현하기 쉬워서 버그가 숨어 있기 어려운 반면, 오차역전파법은 구현하기 복잡해서 종종 실수를 한다."
   ]
  },
  {
   "cell_type": "markdown",
   "id": "15d75e1f",
   "metadata": {},
   "source": [
    "=> 수치 미분의 결과와 오차역전파법의 결과를 비교하여 오차역전파법을 제대로 구현했는지 검증할 수 있다. "
   ]
  },
  {
   "cell_type": "code",
   "execution_count": 11,
   "id": "c8579f9b",
   "metadata": {},
   "outputs": [
    {
     "name": "stdout",
     "output_type": "stream",
     "text": [
      "W1:2.0015135274584279e-10\n",
      "b1:9.41582337813052e-10\n",
      "W2:6.82173418468518e-08\n",
      "b2:1.370578232615105e-07\n"
     ]
    }
   ],
   "source": [
    "import sys, os\n",
    "sys.path.append(os.pardir)  # 부모 디렉터리의 파일을 가져올 수 있도록 설정\n",
    "import numpy as np\n",
    "from dataset.mnist import load_mnist\n",
    "from two_layer_net import TwoLayerNet\n",
    "\n",
    "# 데이터 읽기\n",
    "(x_train, t_train), (x_test, t_test) = load_mnist(normalize=True, one_hot_label=True)\n",
    "\n",
    "network = TwoLayerNet(input_size=784, hidden_size=50, output_size=10)\n",
    "\n",
    "x_batch = x_train[:3]\n",
    "t_batch = t_train[:3]\n",
    "\n",
    "grad_numerical = network.numerical_gradient(x_batch, t_batch)\n",
    "grad_backprop = network.gradient(x_batch, t_batch)\n",
    "\n",
    "# 각 가중치의 절대 오차의 평균을 구한다.\n",
    "for key in grad_numerical.keys():\n",
    "    diff = np.average( np.abs(grad_backprop[key] - grad_numerical[key]) )\n",
    "    print(key + \":\" + str(diff))"
   ]
  }
 ],
 "metadata": {
  "kernelspec": {
   "display_name": "Python 3 (ipykernel)",
   "language": "python",
   "name": "python3"
  },
  "language_info": {
   "codemirror_mode": {
    "name": "ipython",
    "version": 3
   },
   "file_extension": ".py",
   "mimetype": "text/x-python",
   "name": "python",
   "nbconvert_exporter": "python",
   "pygments_lexer": "ipython3",
   "version": "3.10.9"
  }
 },
 "nbformat": 4,
 "nbformat_minor": 5
}
